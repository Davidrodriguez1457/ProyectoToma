{
 "cells": [
  {
   "cell_type": "markdown",
   "id": "19ee319a-b188-4347-ad6f-d5eddb405789",
   "metadata": {},
   "source": [
    "# 1. Selección de un Conjunto de Datos\r\n",
    "\r\n",
    "## Introducción\r\n",
    "\r\n",
    "Para entender las razones que subyacen al funcionamiento de la felicidad en diferentes países, hemos decidido trabajar con la base de datos **World Happiness Report**. Este conjunto de datos, disponible en [Kaggle](https://www.kaggle.com/datasets), proporciona información detallada sobre los niveles de felicidad de los países en todo el mundo, basándose en varios indicadores sociales, económicos y políticos.\r\n",
    "\r\n",
    "## ¿Por qué la base de datos World Happiness Report?\r\n",
    "\r\n",
    "El **World Happiness Report** clasifica los países según su nivel de felicidad, utilizando una serie de variables que reflejan diferentes aspectos del bienestar. Los datos que hemos utilizado provienen de las ediciones más recientes del informe y contienen los siguientes campos:\r\n",
    "\r\n",
    "- **Country**: Nombre del país.\r\n",
    "- **Region**: Región geográfica del país.\r\n",
    "- **Happiness Rank**: Posición del país en el ranking global de felicidad.\r\n",
    "- **Happiness Score**: Índice que refleja el nivel de felicidad en el país.\r\n",
    "- **Lower Confidence Interval**: Intervalo inferior de confianza para la puntuación de felicidad.\r\n",
    "- **Upper Confidence Interval**: Intervalo superior de confianza para la puntuación de felicidad.\r\n",
    "- **Economy (GDP per Capita)**: Producto Interno Bruto (PIB) per cápita.\r\n",
    "- **Family**: Medida del apoyo social basado en la familia.\r\n",
    "- **Health (Life Expectancy)**: Esperanza de vida saludable.\r\n",
    "- **Freedom**: Libertad para tomar decisiones en la vida.\r\n",
    "- **Trust (Government Corruption)**: Confianza en el gobierno y la corrupción.\r\n",
    "- **Generosity**: Nivel de generosidad en la sociedad.\r\n",
    "- **Dystopia Residual**: Valor residual relacionado con una hipotética sociedad distópica.\r\n",
    "\r\n",
    "## Objetivo\r\n",
    "\r\n",
    "El objetivo principal de este análisis es comprender mejor cómo influyen los distintos factores en los niveles de felicidad de los países. Al explorar la relación entre estos indicadores y los niveles de felicidad, buscamos identificar patrones y posibles factores clave que contribuyen al bienestar en difentes regiones del mundo.\r\n",
    "\r\n",
    "egiones del mundo.\r\n",
    "\r\n"
   ]
  },
  {
   "cell_type": "markdown",
   "id": "ca17fa0c-a336-4495-a663-ac7ea27e4c09",
   "metadata": {},
   "source": [
    "# User\n",
    "Con matplotlib genera al menos tres tipos de visualizaciones que sean relevantes para el analisis"
   ]
  },
  {
   "cell_type": "markdown",
   "id": "df5479d8-fdbd-4d14-b145-4d72f49d5d1f",
   "metadata": {},
   "source": [
    "# 2. Creación de la Base de Datos con SQLite\r\n",
    "\r\n",
    "## Introducción\r\n",
    "\r\n",
    "Para almacenar y gestionar los datos del **World Happiness Report** de los años 2015 y 2016, decidimos crear una base de datos SQLite. Este proceso incluye la creación de las tablas correspondientes y la importación de los archivos CSV con los datos. A continuación, se describe el código y los pasos realizados.\r\n",
    "\r\n",
    "## Código para Crear la Base de Datos e Importar los Archivos CSV\r\n",
    "\r\n",
    "1. **Abrir el cmd y lanzar el shell de SQLite:**\r\n",
    "   \r\n",
    "   Primero, abrimos la terminal (cmd) y ejecutamos el siguiente comando para lanzar el shell de SQLite y crear la base de datos `happiness_data.db`:\r\n",
    "\r\n",
    "   ```bash\r\n",
    "   sqlite3 happ\n",
    "    ```\n",
    "\n",
    "Esto:\n",
    "- Crea la base de datos `happiness_data.db` si no existe.\n",
    "- Si la base de datos ya existe, la abre para trabajar con ella.\n",
    "\n",
    "### 2. Crear las tablas para los datos de 2015 y 2016\n",
    "\n",
    "Crea las tablas `happiness_2015` y `happiness_2016` para almacenar los datos de cada año:\n",
    "\n",
    "```sql\n",
    "CREATE TABLE happiness_2015 (\n",
    "    Country TEXT PRIMARY KEY,\n",
    "    Region TEXT,\n",
    "    Happiness_Rank INTEGER,\n",
    "    Happiness_Score REAL,\n",
    "    Standard_Error REAL,\n",
    "    Economy_GDP_per_Capita REAL,\n",
    "    Family REAL,\n",
    "    Health_Life_Expectancy REAL,\n",
    "    Freedom REAL,\n",
    "    Trust_Government_Corruption REAL,\n",
    "    Generosity REAL,\n",
    "    Dystopia_Residual REAL\n",
    ");\n",
    "\n",
    "CREATE TABLE happiness_2016 (\n",
    "    Country TEXT PRIMARY KEY,\n",
    "    Region TEXT,\n",
    "    Happiness_Rank INTEGER,\n",
    "    Happiness_Score REAL,\n",
    "    Standard_Error REAL,\n",
    "    Economy_GDP_per_Capita REAL,\n",
    "    Family REAL,\n",
    "    Health_Life_Expectancy REAL,\n",
    "    Freedom REAL,\n",
    "    Trust_Government_Corruption REAL,\n",
    "    Generosity REAL,\n",
    "    Dystopia_Residual REAL\n",
    ");\n",
    "\n",
    "### 3. Cambiar el modo de importación a CSV\r\n",
    "\r\n",
    "Configura el modo de SQLite para leer archivos CSV:\r\n",
    "\r\n",
    "```sql\r\n",
    ".mode```\n",
    "\n",
    "### 4. Importar los archivos CSV a las tablas creadas\n",
    "\n",
    "```sql\n",
    ".import happiness_2015.csv happiness_2015\r\n",
    ".import happiness_2016.csv happhapiiness_201\r\n",
    "\n",
    "``` csv\r\n",
    "ness_data.db\r\n"
   ]
  },
  {
   "cell_type": "markdown",
   "id": "af460b61-f43f-4710-8187-962c803fb0a5",
   "metadata": {},
   "source": [
    "## Analisis de datos con pandas"
   ]
  },
  {
   "cell_type": "markdown",
   "id": "538a37f1-1b93-4adb-a7e8-28a0dd273e32",
   "metadata": {},
   "source": [
    "### Importe de datos desde SQLite"
   ]
  },
  {
   "cell_type": "code",
   "execution_count": null,
   "id": "ec98e0c4-d12e-4f93-9fd2-38ac409b988c",
   "metadata": {},
   "outputs": [],
   "source": [
    "import sqlite3\n",
    "import pandas as pd\n",
    "import matplotlib.pyplot as plt\n",
    "\n",
    "# Conectar a la base de datos SQLite\n",
    "conn = sqlite3.connect('happiness_data.db')\n",
    "\n",
    "# Leer las tablas de los años 2015 y 2016 en DataFrames de pandas\n",
    "df_2015 = pd.read_sql_query(\"SELECT * FROM happiness_2015\", conn)\n",
    "df_2015 = df_2015.drop(0)  # Elimina la primera fila ya que es el encabezado\n",
    "df_2016 = pd.read_sql_query(\"SELECT * FROM happiness_2016\", conn)\n",
    "df_2016 = df_2016.drop(0)  # Elimina la primera fila ya que es el encabezado\n",
    "\n",
    "# Cerrar la conexión\n",
    "conn.close()\n"
   ]
  },
  {
   "cell_type": "code",
   "execution_count": null,
   "id": "a312713f-cb21-4ff6-a431-feefd43f6554",
   "metadata": {},
   "outputs": [],
   "source": [
    "df_2015"
   ]
  },
  {
   "cell_type": "code",
   "execution_count": null,
   "id": "9bc51bae-5758-407c-adfe-62aeb2486339",
   "metadata": {},
   "outputs": [],
   "source": [
    "df_2016"
   ]
  },
  {
   "cell_type": "markdown",
   "id": "517da339-cd9f-4279-861a-65b82d5571c3",
   "metadata": {},
   "source": [
    "## Análisis Exploratorio de Datos - World Happiness Report\n",
    "### 1. Descripción estadística básica"
   ]
  },
  {
   "cell_type": "code",
   "execution_count": null,
   "id": "f9815f8b-2c5e-4f3b-a5a1-0d2b8d81462a",
   "metadata": {},
   "outputs": [],
   "source": [
    "print(\"Descripción estadística de datos 2015:\")\n",
    "print(df_2015.describe())\n"
   ]
  },
  {
   "cell_type": "code",
   "execution_count": null,
   "id": "757e703b-3faa-4ed8-a9c8-31aede79e26e",
   "metadata": {},
   "outputs": [],
   "source": [
    "# Medidas de tendencia central y dispersión para variables numéricas en 2015\n",
    "numeric_cols = ['Happiness_Score', 'Economy_GDP_per_Capita', 'Family', \n",
    "                'Health_Life_Expectancy', 'Freedom', \n",
    "                'Trust_Government_Corruption', 'Generosity', 'Dystopia_Residual']\n",
    "\n",
    "# Función para calcular estadísticos\n",
    "def calcular_estadisticos(dataframe, columnas):\n",
    "    resultados = {}\n",
    "    for col in columnas:\n",
    "        estadisticos = {\n",
    "            'Media': dataframe[col].mean(),\n",
    "            'Mediana': dataframe[col].median(),\n",
    "            'Moda': dataframe[col].mode().values[0],  # Primer valor si hay múltiples modas\n",
    "            'Desviación Estándar': dataframe[col].std()\n",
    "        }\n",
    "        resultados[col] = estadisticos\n",
    "    return resultados\n",
    "\n",
    "# Calcular estadísticos para 2015\n",
    "estadisticos_2015 = calcular_estadisticos(df_2015, numeric_cols)\n",
    "\n",
    "# Imprimir resultados\n",
    "print(\"Estadísticos descriptivos para 2015:\")\n",
    "for variable, stats in estadisticos_2015.items():\n",
    "    print(f\"\\n{variable}:\")\n",
    "    for stat_nombre, stat_valor in stats.items():\n",
    "        print(f\"{stat_nombre}: {stat_valor:.4f}\")"
   ]
  },
  {
   "cell_type": "code",
   "execution_count": null,
   "id": "1dd5775a-7277-41e0-a49f-4676e60f8dc7",
   "metadata": {},
   "outputs": [],
   "source": [
    "\n",
    "print(\"\\nDescripción estadística de datos 2016:\")\n",
    "print(df_2016.describe())"
   ]
  },
  {
   "cell_type": "code",
   "execution_count": null,
   "id": "c81893c8-dd5d-4b4c-ad07-40e4222a0b5b",
   "metadata": {},
   "outputs": [],
   "source": [
    "\n",
    "# Lo mismo para 2016\n",
    "estadisticos_2016 = calcular_estadisticos(df_2016, numeric_cols)\n",
    "\n",
    "print(\"\\n\\nEstadísticos descriptivos para 2016:\")\n",
    "for variable, stats in estadisticos_2016.items():\n",
    "    print(f\"\\n{variable}:\")\n",
    "    for stat_nombre, stat_valor in stats.items():\n",
    "        print(f\"{stat_nombre}: {stat_valor:.4f}\")"
   ]
  },
  {
   "cell_type": "markdown",
   "id": "f5e5b4b9-edbe-43c9-9baf-b664281fc40f",
   "metadata": {},
   "source": [
    "\n",
    "### 2. Identificación de valores faltantes"
   ]
  },
  {
   "cell_type": "code",
   "execution_count": null,
   "id": "9de6a336-7d8e-4a8f-9a1c-23971e5c07df",
   "metadata": {},
   "outputs": [],
   "source": [
    "\n",
    "print(\"\\nValores nulos en 2015:\")\n",
    "print(df_2015.isnull().sum())"
   ]
  },
  {
   "cell_type": "code",
   "execution_count": null,
   "id": "7579ab94-fac2-48ad-a84b-40c250c42d7f",
   "metadata": {},
   "outputs": [],
   "source": [
    "print(\"\\nValores nulos en 2016:\")\n",
    "print(df_2016.isnull().sum())"
   ]
  },
  {
   "cell_type": "markdown",
   "id": "0beec58b-7e5c-466d-9170-d61bbf82e29a",
   "metadata": {},
   "source": [
    "\n",
    "### Detección de valores atípicos"
   ]
  },
  {
   "cell_type": "code",
   "execution_count": null,
   "id": "181b52d8-ca3b-46a2-80e8-b71890c87a57",
   "metadata": {},
   "outputs": [],
   "source": [
    "\n",
    "def detect_outliers(df, column):\n",
    "    Q1 = df[column].quantile(0.25)\n",
    "    Q3 = df[column].quantile(0.75)\n",
    "    IQR = Q3 - Q1\n",
    "    lower_bound = Q1 - 1.5 * IQR\n",
    "    upper_bound = Q3 + 1.5 * IQR\n",
    "    outliers = df[(df[column] < lower_bound) | (df[column] > upper_bound)]\n",
    "    return outliers, lower_bound, upper_bound\n",
    "\n",
    "# Variables numéricas para análisis de outliers\n",
    "numeric_cols = ['Happiness_Score', 'Economy_GDP_per_Capita', 'Family', \n",
    "                'Health_Life_Expectancy', 'Freedom', \n",
    "                'Trust_Government_Corruption', 'Generosity', 'Dystopia_Residual']\n",
    "\n",
    "# Análisis de outliers para cada variable en 2015\n",
    "print(\"\\nAnálisis de Outliers en 2015:\")\n",
    "for col in numeric_cols:\n",
    "    outliers, lower, upper = detect_outliers(df_2015, col)\n",
    "    print(f\"\\nOutliers en {col}:\")\n",
    "    print(f\"Límite inferior: {lower}\")\n",
    "    print(f\"Límite superior: {upper}\")\n",
    "    print(f\"Número de outliers: {len(outliers)}\")\n",
    "    print(\"Países outliers:\")\n",
    "    print(outliers[['Country', col]])"
   ]
  },
  {
   "cell_type": "markdown",
   "id": "8c005bf4-9929-4c4e-957b-daf0e7958573",
   "metadata": {},
   "source": [
    "### 3. Transformaciones o filtrados necesarios para el analisis"
   ]
  },
  {
   "cell_type": "code",
   "execution_count": null,
   "id": "58dd0a2a-8193-4202-9ec9-2e2cfea690d8",
   "metadata": {},
   "outputs": [],
   "source": [
    "\n",
    "# Filtrar países de LATAM 2015\n",
    "# Convertir 'Happiness_Score' a tipo numérico (forzando errores a NaN)\n",
    "df_2015['Happiness_Score'] = pd.to_numeric(df_2015['Happiness_Score'], errors='coerce')\n",
    "\n",
    "# Filtrar países de LATAM\n",
    "latam_2015 = df_2015[df_2015['Region'] == 'Latin America and Caribbean']\n",
    "\n",
    "# Obtener los 10 países con mayor puntuación de felicidad\n",
    "top_happiness_2015 = df_2015.nlargest(10, 'Happiness_Score')\n",
    "\n",
    "# 2. Comparación de factores entre LATAM y top de felicidad\n",
    "# Columnas para comparar\n",
    "factor_columns = [\n",
    "    'Happiness_Score', \n",
    "    'Economy_GDP_per_Capita', \n",
    "    'Family', \n",
    "    'Health_Life_Expectancy', \n",
    "    'Freedom',\n",
    "    'Trust_Government_Corruption', \n",
    "    'Generosity', \n",
    "    'Dystopia_Residual'\n",
    "]\n",
    "\n",
    "# Calcular promedios de LATAM y top de felicidad\n",
    "latam_avg = latam_2015[factor_columns].mean()\n",
    "top_avg = top_happiness_2015[factor_columns].mean()\n",
    "\n",
    "# Crear DataFrame comparativo\n",
    "comparison_df = pd.DataFrame({\n",
    "    'LATAM_Average': latam_avg,\n",
    "    'Top_Happiness_Average': top_avg\n",
    "})\n",
    "comparison_df['Difference'] = comparison_df['Top_Happiness_Average'] - comparison_df['LATAM_Average']\n",
    "comparison_df['Percentage_Difference'] = (comparison_df['Difference'] / comparison_df['LATAM_Average']) * 100\n",
    "\n",
    "print(\"Comparación de factores entre LATAM y top mas felices:\")\n",
    "print(comparison_df)"
   ]
  },
  {
   "cell_type": "code",
   "execution_count": null,
   "id": "06f855cb-64c6-43ed-a9ad-8526c730a3c2",
   "metadata": {
    "scrolled": true
   },
   "outputs": [],
   "source": [
    "top_happiness_2015.head(5)"
   ]
  },
  {
   "cell_type": "code",
   "execution_count": null,
   "id": "3c1e028f-25d3-4a2d-bab8-905346a21aba",
   "metadata": {
    "scrolled": true
   },
   "outputs": [],
   "source": [
    "latam_2015.head(5)"
   ]
  },
  {
   "cell_type": "code",
   "execution_count": null,
   "id": "11bae5c9-4350-4f7c-8d8e-1ac8b7d534f7",
   "metadata": {},
   "outputs": [],
   "source": [
    "# Filtrar países de LATAM 2016\n",
    "# Convertir 'Happiness_Score' a tipo numérico (forzando errores a NaN)\n",
    "df_2016['Happiness_Score'] = pd.to_numeric(df_2016['Happiness_Score'], errors='coerce')\n",
    "\n",
    "# Filtrar países de LATAM\n",
    "latam_2016 = df_2016[df_2016['Region'] == 'Latin America and Caribbean']\n",
    "\n",
    "# Obtener los 10 países con mayor puntuación de felicidad\n",
    "top_happiness_2016 = df_2016.nlargest(10, 'Happiness_Score')\n",
    "\n",
    "# 2. Comparación de factores entre LATAM y top de felicidad\n",
    "# Columnas para comparar\n",
    "factor_columns = [\n",
    "    'Happiness_Score', \n",
    "    'Economy_GDP_per_Capita', \n",
    "    'Family', \n",
    "    'Health_Life_Expectancy', \n",
    "    'Freedom', \n",
    "    'Trust_Government_Corruption', \n",
    "    'Generosity', \n",
    "    'Dystopia_Residual'\n",
    "]\n",
    "\n",
    "# Calcular promedios de LATAM y top de felicidad\n",
    "latam_avg = latam_2016[factor_columns].mean()\n",
    "top_avg = top_happiness_2016[factor_columns].mean()\n",
    "\n",
    "# Crear DataFrame comparativo\n",
    "comparison_df = pd.DataFrame({\n",
    "    'LATAM_Average': latam_avg,\n",
    "    'Top_Happiness_Average': top_avg\n",
    "})\n",
    "comparison_df['Difference'] = comparison_df['Top_Happiness_Average'] - comparison_df['LATAM_Average']\n",
    "comparison_df['Percentage_Difference'] = (comparison_df['Difference'] / comparison_df['LATAM_Average']) * 100\n",
    "\n",
    "print(\"Comparación de factores entre LATAM y top mas felices:\")\n",
    "print(comparison_df)"
   ]
  },
  {
   "cell_type": "code",
   "execution_count": null,
   "id": "f4eb8da1-f67a-42f2-bc56-38f1cc6bae8c",
   "metadata": {},
   "outputs": [],
   "source": [
    "latam_2016.head(5)"
   ]
  },
  {
   "cell_type": "code",
   "execution_count": null,
   "id": "d0c73a8d-0881-488d-bedb-85241e8fe582",
   "metadata": {},
   "outputs": [],
   "source": [
    "top_happiness_2016.head(5)"
   ]
  },
  {
   "cell_type": "markdown",
   "id": "01fb7e41-0cf0-42a1-b1b8-ac9de6d69fe1",
   "metadata": {},
   "source": [
    "##  Visualización de datos con matplotlib:"
   ]
  },
  {
   "cell_type": "markdown",
   "id": "c82c6e15-9001-4026-9923-7c32e0de2d85",
   "metadata": {},
   "source": [
    "### Mapa mostrando los paises más felices 2015"
   ]
  },
  {
   "cell_type": "code",
   "execution_count": null,
   "id": "867abdee-707b-4d54-a594-3963d2e998f9",
   "metadata": {},
   "outputs": [],
   "source": [
    "import folium  # Para crear mapas interactivos\n",
    "from IPython.display import display  # Para mostrar el mapa en Notebook\n",
    "\n",
    "# Coordenadas reales para los países\n",
    "latam_coordinates = {\n",
    "    'Costa Rica': [9.7489, -83.7534],\n",
    "    'Mexico': [23.6345, -102.5528],\n",
    "    'Brazil': [-14.2350, -51.9253],\n",
    "    'Venezuela': [6.4238, -66.5897],\n",
    "    'Panama': [8.5380, -80.7821]\n",
    "}\n",
    "\n",
    "global_coordinates = {\n",
    "    'Switzerland': [46.8182, 8.2275],\n",
    "    'Iceland': [64.9631, -19.0208],\n",
    "    'Denmark': [56.2639, 9.5018],\n",
    "    'Norway': [60.4720, 8.4689],\n",
    "    'Canada': [56.1304, -106.3468]\n",
    "}\n",
    "\n",
    "# Crear un mapa base centrado en LATAM\n",
    "mapa = folium.Map(location=[10, -70], zoom_start=3)\n",
    "\n",
    "# Agregar marcadores para los países de LATAM con números\n",
    "for idx, (country, coord) in enumerate(latam_coordinates.items(), start=1):\n",
    "    folium.Marker(\n",
    "        location=coord,\n",
    "        popup=f\"<b>{country}</b>: #{idx} en LATAM\",\n",
    "        icon=folium.Icon(color='blue', icon=f'{idx}')\n",
    "    ).add_to(mapa)\n",
    "\n",
    "# Agregar marcadores para los países globales con números\n",
    "for idx, (country, coord) in enumerate(global_coordinates.items(), start=1):\n",
    "    folium.Marker(\n",
    "        location=coord,\n",
    "        popup=f\"<b>{country}</b>: #{idx} Global\",\n",
    "        icon=folium.Icon(color='red', icon=f'{idx}')\n",
    "    ).add_to(mapa)\n",
    "\n",
    "# Mostrar el mapa interactivo\n",
    "display(mapa)\n"
   ]
  },
  {
   "cell_type": "markdown",
   "id": "40d5c638-3228-498d-a0b6-fdadeb597ac6",
   "metadata": {},
   "source": [
    "### Mapa mostrando los paises más felices 2016"
   ]
  },
  {
   "cell_type": "code",
   "execution_count": null,
   "id": "9b3197c0-6fa3-496c-9e4c-500a9bf4a54c",
   "metadata": {},
   "outputs": [],
   "source": [
    "import folium  # Para crear mapas interactivos\n",
    "from IPython.display import display  # Para mostrar el mapa en Notebook\n",
    "\n",
    "# Coordenadas reales para los países LATAM y globales en 2016\n",
    "latam_coordinates_2016 = {\n",
    "    'Costa Rica': [9.7489, -83.7534],\n",
    "    'Puerto Rico': [18.2208, -66.5901],\n",
    "    'Brazil': [-14.2350, -51.9253],\n",
    "    'Mexico': [23.6345, -102.5528],\n",
    "    'Chile': [-35.6751, -71.5430]\n",
    "}\n",
    "\n",
    "global_coordinates_2016 = {\n",
    "    'Denmark': [56.2639, 9.5018],\n",
    "    'Switzerland': [46.8182, 8.2275],\n",
    "    'Iceland': [64.9631, -19.0208],\n",
    "    'Norway': [60.4720, 8.4689],\n",
    "    'Finland': [61.9241, 25.7482]\n",
    "}\n",
    "\n",
    "# Crear un mapa base centrado en LATAM\n",
    "mapa = folium.Map(location=[10, -70], zoom_start=3)\n",
    "\n",
    "# Agregar marcadores para los países de LATAM 2016 con números\n",
    "for idx, (country, coord) in enumerate(latam_coordinates_2016.items(), start=1):\n",
    "    folium.Marker(\n",
    "        location=coord,\n",
    "        popup=f\"<b>{country}</b>: #{idx} en LATAM 2016\",\n",
    "        icon=folium.Icon(color='blue', icon='info-sign')\n",
    "    ).add_to(mapa)\n",
    "\n",
    "# Agregar marcadores para los países globales 2016 con números\n",
    "for idx, (country, coord) in enumerate(global_coordinates_2016.items(), start=1):\n",
    "    folium.Marker(\n",
    "        location=coord,\n",
    "        popup=f\"<b>{country}</b>: #{idx} Global 2016\",\n",
    "        icon=folium.Icon(color='red', icon='star')\n",
    "    ).add_to(mapa)\n",
    "\n",
    "# Mostrar el mapa interactivo\n",
    "display(mapa)\n"
   ]
  },
  {
   "cell_type": "markdown",
   "id": "9de9cd5e-f029-4f44-864b-8c63927f2a1e",
   "metadata": {},
   "source": [
    "### Gráfico 1: Comparación de promedios entre LATAM y Top Global"
   ]
  },
  {
   "cell_type": "code",
   "execution_count": null,
   "id": "a5d540b0-4e36-4807-91ee-e4e09e4bb67c",
   "metadata": {},
   "outputs": [],
   "source": [
    "\n",
    "plt.figure(figsize=(10, 6))\n",
    "comparison_df[['LATAM_Average', 'Top_Happiness_Average']].plot.bar(figsize=(12, 6), width=0.8, edgecolor='black')\n",
    "plt.title('Comparación de Factores Promedio: LATAM vs Top Global (2015 y 2016)', fontsize=16)\n",
    "plt.ylabel('Promedio', fontsize=12)\n",
    "plt.xticks(rotation=45)\n",
    "plt.legend(['LATAM', 'Global'], loc='upper left')\n",
    "plt.grid(axis='y', linestyle='--', alpha=0.7)\n",
    "plt.tight_layout()\n",
    "plt.show()"
   ]
  },
  {
   "cell_type": "markdown",
   "id": "55631446-a84c-475d-940d-63710823a41c",
   "metadata": {},
   "source": [
    "### Gráfico 2: Diferencia absoluta entre LATAM y Global"
   ]
  },
  {
   "cell_type": "code",
   "execution_count": null,
   "id": "2c20ec1c-0269-41fc-a99d-354faa8d7f26",
   "metadata": {},
   "outputs": [],
   "source": [
    "\n",
    "plt.figure(figsize=(10, 6))\n",
    "comparison_df['Difference'].plot(kind='bar', color='orange', edgecolor='black')\n",
    "plt.title('Diferencia Absoluta en Factores: Top Global - LATAM', fontsize=16)\n",
    "plt.ylabel('Diferencia Absoluta', fontsize=12)\n",
    "plt.xticks(rotation=45)\n",
    "plt.axhline(0, color='black', linewidth=0.8, linestyle='--')\n",
    "plt.grid(axis='y', linestyle='--', alpha=0.7)\n",
    "plt.tight_layout()\n",
    "plt.show()"
   ]
  },
  {
   "cell_type": "markdown",
   "id": "ac2f4c0d-d7c2-463c-a449-5c129919fcfd",
   "metadata": {},
   "source": [
    "### Gráfico 3: Diferencia porcentual entre LATAM y Global"
   ]
  },
  {
   "cell_type": "code",
   "execution_count": null,
   "id": "8f978b6c-7708-4a94-8849-650c6fcf29b1",
   "metadata": {},
   "outputs": [],
   "source": [
    "plt.figure(figsize=(10, 6))\n",
    "comparison_df['Percentage_Difference'].plot(kind='bar', color='green', edgecolor='black')\n",
    "plt.title('Diferencia Porcentual en Factores: Top Global vs LATAM', fontsize=16)\n",
    "plt.ylabel('Diferencia Porcentual (%)', fontsize=12)\n",
    "plt.xticks(rotation=45)\n",
    "plt.axhline(0, color='black', linewidth=0.8, linestyle='--')\n",
    "plt.grid(axis='y', linestyle='--', alpha=0.7)\n",
    "plt.tight_layout()\n",
    "plt.show()"
   ]
  },
  {
   "cell_type": "code",
   "execution_count": null,
   "id": "25f461b5-9501-44d2-ac25-a073d767b7e3",
   "metadata": {},
   "outputs": [],
   "source": [
    "conn = sqlite3.connect('happiness_data.db')  # Ajusta la ruta si es necesario\n",
    "    \n",
    "# Cambiar la consulta para la región correcta\n",
    "latam_data = pd.read_sql_query(f\"SELECT * FROM happiness_2015 WHERE Region = 'Latin America and Caribbean'\", conn)\n",
    "top_happiness_data = pd.read_sql_query(f\"SELECT * FROM happiness_2015 ORDER BY Happiness_Score DESC LIMIT 6\", conn)  # Limitamos a los 5 primeros países globales\n",
    "top_happiness_data = top_happiness_data.drop(0)\n",
    "    \n",
    "conn.close()"
   ]
  },
  {
   "cell_type": "markdown",
   "id": "27d2de0a-6ae8-4825-8ef8-0bc18c93526a",
   "metadata": {},
   "source": [
    "### Gráfico 4: Comparación de Happiness Score"
   ]
  },
  {
   "cell_type": "code",
   "execution_count": null,
   "id": "3f984d19-d4ad-4943-99d4-dad0f85430ac",
   "metadata": {},
   "outputs": [],
   "source": [
    "import seaborn as sns\n",
    "\n",
    "# Concatenar los datos de LATAM y Top Global\n",
    "latam_top_countries = latam_data.nlargest(5, 'Happiness_Score')[['Country', 'Happiness_Score']]\n",
    "global_top_countries = top_happiness_data[['Country', 'Happiness_Score']].head(5)\n",
    "\n",
    "# Unir los DataFrames de LATAM y Top Global\n",
    "comparison_data = pd.concat([latam_top_countries, global_top_countries], axis=0)\n",
    "\n",
    "# Graficar\n",
    "plt.figure(figsize=(10, 6))\n",
    "sns.barplot(data=comparison_data, x='Country', y='Happiness_Score', palette=\"Blues_d\")\n",
    "plt.title('Comparación de Happiness Score entre LATAM y el Top Global')\n",
    "plt.ylabel('Happiness Score')\n",
    "plt.xticks(rotation=45)\n",
    "plt.show()  # Mostrar el gráfico en el notebook\n"
   ]
  },
  {
   "cell_type": "markdown",
   "id": "ee1c068a-900c-46eb-b745-26cccdac0a1e",
   "metadata": {},
   "source": [
    "### Gráfico 5: Comparación de Happiness Score"
   ]
  },
  {
   "cell_type": "code",
   "execution_count": null,
   "id": "675d42b8-4b11-498e-ac04-e52177d35261",
   "metadata": {},
   "outputs": [],
   "source": [
    "# Calcular la media de los factores para LATAM y Top Global\n",
    "latam_avg = latam_data[['Economy_GDP_per_Capita', 'Family', 'Health_Life_Expectancy', \n",
    "                        'Freedom', 'Trust_Government_Corruption', 'Generosity']].mean()\n",
    "top_avg = top_happiness_data[['Economy_GDP_per_Capita', 'Family', 'Health_Life_Expectancy', \n",
    "                              'Freedom', 'Trust_Government_Corruption', 'Generosity']].mean()\n",
    "\n",
    "# Crear el DataFrame de comparación\n",
    "comparison_df = pd.DataFrame({\n",
    "    'LATAM': latam_avg,\n",
    "    'Top Global': top_avg\n",
    "})\n",
    "\n",
    "# Asegurarse de que los datos sean numéricos\n",
    "comparison_df = comparison_df.apply(pd.to_numeric, errors='coerce')\n",
    "\n",
    "# Verificar si hay valores nulos y manejarlos\n",
    "if comparison_df.isnull().values.any():\n",
    "    print(\"Algunos valores son nulos y serán ignorados en el gráfico.\")\n",
    "    comparison_df = comparison_df.fillna(0)  # Llenar los valores nulos con 0 o con el valor que consideres adecuado\n",
    "\n",
    "# Graficar el heatmap\n",
    "plt.figure(figsize=(10, 6))\n",
    "sns.heatmap(comparison_df.T, annot=True, cmap='coolwarm', center=0)\n",
    "plt.title('Comparación de Factores de Felicidad entre LATAM y Top Global')\n",
    "plt.show()  # Mostrar el gráfico en el notebook\n"
   ]
  }
 ],
 "metadata": {
  "kernelspec": {
   "display_name": "Python 3 (ipykernel)",
   "language": "python",
   "name": "python3"
  },
  "language_info": {
   "codemirror_mode": {
    "name": "ipython",
    "version": 3
   },
   "file_extension": ".py",
   "mimetype": "text/x-python",
   "name": "python",
   "nbconvert_exporter": "python",
   "pygments_lexer": "ipython3",
   "version": "3.12.4"
  }
 },
 "nbformat": 4,
 "nbformat_minor": 5
}
